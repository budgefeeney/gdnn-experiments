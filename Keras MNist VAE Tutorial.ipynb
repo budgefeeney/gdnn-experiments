{
 "cells": [
  {
   "cell_type": "markdown",
   "metadata": {
    "id": "5rr941ikUePO"
   },
   "source": [
    "# Abstract\n",
    "\n",
    "This is a simple restatement of the VAE MNist tutorial from the Keras documentation at:\n",
    "\n",
    "https://www.tensorflow.org/guide/keras/custom_layers_and_models#the_add_loss_method\n",
    "\n",
    "It was found by looking at this Stackoverflow question where the answerer (obliquely) suggested that there can be issues with feeding in tfvars into loss functions at the last minute, even via Lambdas\n",
    "\n",
    "https://stackoverflow.com/questions/62766042/inputs-to-eager-execution-function-cannot-be-keras-symbolic-tensors-with-variati\n",
    "\n",
    "> I've been having the same problem for a long time, but managed to figure it out. The problem is that TF only accepts loss functions which accept (input, output) parameters which are then compared. However, you are computing your (kl_)loss using also mu and sigma, which are basically dense layers. Until tensorflow v2.1 it magically knew what these parameters were and knew how to include/manipulate them, but from then on, you have to be more careful. "
   ]
  },
  {
   "cell_type": "markdown",
   "metadata": {
    "id": "rXHZ6v2XU43U"
   },
   "source": [
    "# Layers API\n",
    "\n",
    "The tutorial is about the layers API. A Layer has, among other things\n",
    "\n",
    "1. An `__init__()` constructor which absorbs the usual parameters (e.g. `units`)\n",
    "2. A `call()` method that does the work of the layer: strictly, for neural-networks layers, this is the implementation of the forward pass.\n",
    "3. A `build()` method called just before the first call to `call()` which can be used to lazily instantiate the tfvars that make the `Layer`. These tfvars can be marked as trainable or not.\n",
    "4. A `__call__()` method which actually does the work when you do `m = MyLayer(**params); m(x)`. Among other things, this obviously checks does it need to call `build()` and will at some point call `call()`. \n",
    "5. An `add_weight()` method is inherited to simplify adding tfvars\n",
    "6. An `add_loss()` method can be used to add a layer-specific loss. Typically this is the regularlization loss.\n",
    "\n",
    "You can compose layers together, which is how you can add an activation layer into your `Dense` layer when you use the `activation` parameter.\n",
    "\n",
    "Or in our case, create a custom sampling layer which keeps track of the KL loss.\n",
    "\n"
   ]
  },
  {
   "cell_type": "markdown",
   "metadata": {
    "id": "WZUJwCLWWBjA"
   },
   "source": [
    "# VAE MNIST Example:  Object-Orientated"
   ]
  },
  {
   "cell_type": "code",
   "execution_count": 3,
   "metadata": {
    "executionInfo": {
     "elapsed": 2256,
     "status": "ok",
     "timestamp": 1612994500528,
     "user": {
      "displayName": "Bryan Feeney",
      "photoUrl": "https://lh3.googleusercontent.com/a-/AOh14GiPntWv82gXOOwC1JBFNoK4SPM-4IxTQnERyCBuUQ=s64",
      "userId": "15000880758463632242"
     },
     "user_tz": 0
    },
    "id": "8zR5KZy6WAza"
   },
   "outputs": [],
   "source": [
    "from typing import NamedTuple, List, Union, Tuple, Optional\n",
    "\n",
    "import numpy as np\n",
    "import sys\n",
    "\n",
    "import tensorflow.keras as keras\n",
    "from tensorflow.keras import layers\n",
    "from tensorflow.keras.models import Model\n",
    "from tensorflow.keras.optimizers import Adam\n",
    "from tensorflow.keras.losses import MeanSquaredError\n",
    "from tensorflow.keras import metrics\n",
    "\n",
    "from tensorflow.keras import backend as K  # tensor operations\n",
    "\n",
    "\n",
    "class Sampling(layers.Layer):\n",
    "    \"\"\"Uses (z_mean, z_log_var) to sample z, the vector encoding a digit.\"\"\"\n",
    "\n",
    "    def call(self, inputs):\n",
    "        z_mean, z_log_var = inputs\n",
    "        batch = tf.shape(z_mean)[0]\n",
    "        dim = tf.shape(z_mean)[1]\n",
    "        epsilon = tf.keras.backend.random_normal(shape=(batch, dim))\n",
    "        return z_mean + tf.exp(0.5 * z_log_var) * epsilon\n",
    "\n",
    "\n",
    "class Encoder(layers.Layer):\n",
    "    \"\"\"Maps MNIST digits to a triplet (z_mean, z_log_var, z).\"\"\"\n",
    "\n",
    "    def __init__(self, latent_dim=32, intermediate_dim=64, name=\"encoder\", **kwargs):\n",
    "        super(Encoder, self).__init__(name=name, **kwargs)\n",
    "        self.dense_proj = layers.Dense(intermediate_dim, activation=\"relu\")\n",
    "        self.dense_mean = layers.Dense(latent_dim)\n",
    "        self.dense_log_var = layers.Dense(latent_dim)\n",
    "        self.sampling = Sampling()\n",
    "\n",
    "    def call(self, inputs):\n",
    "        x = self.dense_proj(inputs)\n",
    "        z_mean = self.dense_mean(x)\n",
    "        z_log_var = self.dense_log_var(x)\n",
    "        z = self.sampling((z_mean, z_log_var))\n",
    "        return z_mean, z_log_var, z\n",
    "\n",
    "\n",
    "class Decoder(layers.Layer):\n",
    "    \"\"\"Converts z, the encoded digit vector, back into a readable digit.\"\"\"\n",
    "\n",
    "    def __init__(self, original_dim, intermediate_dim=64, name=\"decoder\", **kwargs):\n",
    "        super(Decoder, self).__init__(name=name, **kwargs)\n",
    "        self.dense_proj = layers.Dense(intermediate_dim, activation=\"relu\")\n",
    "        self.dense_output = layers.Dense(original_dim, activation=\"sigmoid\")\n",
    "\n",
    "    def call(self, inputs):\n",
    "        x = self.dense_proj(inputs)\n",
    "        return self.dense_output(x)\n",
    "\n",
    "\n",
    "class VariationalAutoEncoder(keras.Model):\n",
    "    \"\"\"Combines the encoder and decoder into an end-to-end model for training.\"\"\"\n",
    "\n",
    "    def __init__(\n",
    "        self,\n",
    "        original_dim,\n",
    "        intermediate_dim=64,\n",
    "        latent_dim=32,\n",
    "        name=\"autoencoder\",\n",
    "        **kwargs\n",
    "    ):\n",
    "        super(VariationalAutoEncoder, self).__init__(name=name, **kwargs)\n",
    "        self.original_dim = original_dim\n",
    "        self.encoder = Encoder(latent_dim=latent_dim, intermediate_dim=intermediate_dim)\n",
    "        self.decoder = Decoder(original_dim, intermediate_dim=intermediate_dim)\n",
    "\n",
    "    def call(self, inputs):\n",
    "        z_mean, z_log_var, z = self.encoder(inputs)\n",
    "        reconstructed = self.decoder(z)\n",
    "        # Add KL divergence regularization loss.\n",
    "        kl_loss = -0.5 * tf.reduce_mean(\n",
    "            z_log_var - tf.square(z_mean) - tf.exp(z_log_var) + 1\n",
    "        )\n",
    "        self.add_loss(kl_loss)\n",
    "        return reconstructed"
   ]
  },
  {
   "cell_type": "code",
   "execution_count": 4,
   "metadata": {
    "colab": {
     "base_uri": "https://localhost:8080/"
    },
    "executionInfo": {
     "elapsed": 31043,
     "status": "ok",
     "timestamp": 1612994529320,
     "user": {
      "displayName": "Bryan Feeney",
      "photoUrl": "https://lh3.googleusercontent.com/a-/AOh14GiPntWv82gXOOwC1JBFNoK4SPM-4IxTQnERyCBuUQ=s64",
      "userId": "15000880758463632242"
     },
     "user_tz": 0
    },
    "id": "G8pBxdDuU3dm",
    "outputId": "91730280-c20b-484c-97a3-1f943853ba0a"
   },
   "outputs": [
    {
     "name": "stdout",
     "output_type": "stream",
     "text": [
      "Downloading data from https://storage.googleapis.com/tensorflow/tf-keras-datasets/mnist.npz\n",
      "11493376/11490434 [==============================] - 1s 0us/step\n",
      "Start of epoch 0\n",
      "step 0: mean loss = 0.3845\n",
      "step 100: mean loss = 0.1276\n",
      "step 200: mean loss = 0.1003\n",
      "step 300: mean loss = 0.0899\n",
      "step 400: mean loss = 0.0848\n",
      "step 500: mean loss = 0.0813\n",
      "step 600: mean loss = 0.0791\n",
      "step 700: mean loss = 0.0775\n",
      "step 800: mean loss = 0.0763\n",
      "step 900: mean loss = 0.0752\n",
      "Start of epoch 1\n",
      "step 0: mean loss = 0.0749\n",
      "step 100: mean loss = 0.0742\n",
      "step 200: mean loss = 0.0737\n",
      "step 300: mean loss = 0.0732\n",
      "step 400: mean loss = 0.0729\n",
      "step 500: mean loss = 0.0725\n",
      "step 600: mean loss = 0.0722\n",
      "step 700: mean loss = 0.0719\n",
      "step 800: mean loss = 0.0716\n",
      "step 900: mean loss = 0.0714\n"
     ]
    }
   ],
   "source": [
    "import tensorflow as tf\n",
    "\n",
    "original_dim = 784\n",
    "vae = VariationalAutoEncoder(original_dim, 64, 32)\n",
    "\n",
    "optimizer = Adam(learning_rate=1e-3)\n",
    "mse_loss_fn = MeanSquaredError()\n",
    "\n",
    "loss_metric = metrics.Mean()\n",
    "\n",
    "(x_train, _), _ = tf.keras.datasets.mnist.load_data()\n",
    "x_train = x_train.reshape(60000, 784).astype(\"float32\") / 255\n",
    "\n",
    "train_dataset = tf.data.Dataset.from_tensor_slices(x_train)\n",
    "train_dataset = train_dataset.shuffle(buffer_size=1024).batch(64)\n",
    "\n",
    "epochs = 2\n",
    "\n",
    "# Iterate over epochs.\n",
    "for epoch in range(epochs):\n",
    "    print(\"Start of epoch %d\" % (epoch,))\n",
    "\n",
    "    # Iterate over the batches of the dataset.\n",
    "    for step, x_batch_train in enumerate(train_dataset):\n",
    "        with tf.GradientTape() as tape:\n",
    "            reconstructed = vae(x_batch_train)\n",
    "            # Compute reconstruction loss\n",
    "            loss = mse_loss_fn(x_batch_train, reconstructed)\n",
    "            loss += sum(vae.losses)  # Add KLD regularization loss\n",
    "\n",
    "        grads = tape.gradient(loss, vae.trainable_weights)\n",
    "        optimizer.apply_gradients(zip(grads, vae.trainable_weights))\n",
    "\n",
    "        loss_metric(loss)\n",
    "\n",
    "        if step % 100 == 0:\n",
    "            print(\"step %d: mean loss = %.4f\" % (step, loss_metric.result()))\n"
   ]
  },
  {
   "cell_type": "code",
   "execution_count": 5,
   "metadata": {
    "colab": {
     "base_uri": "https://localhost:8080/"
    },
    "executionInfo": {
     "elapsed": 36483,
     "status": "ok",
     "timestamp": 1612994534767,
     "user": {
      "displayName": "Bryan Feeney",
      "photoUrl": "https://lh3.googleusercontent.com/a-/AOh14GiPntWv82gXOOwC1JBFNoK4SPM-4IxTQnERyCBuUQ=s64",
      "userId": "15000880758463632242"
     },
     "user_tz": 0
    },
    "id": "L-ydrpMCXhlP",
    "outputId": "2bcf3662-aeb6-4482-9461-75dc2ea2a354"
   },
   "outputs": [
    {
     "name": "stdout",
     "output_type": "stream",
     "text": [
      "Epoch 1/2\n",
      "938/938 [==============================] - 2s 1ms/step - loss: 0.0954\n",
      "Epoch 2/2\n",
      "938/938 [==============================] - 1s 1ms/step - loss: 0.0676\n"
     ]
    },
    {
     "data": {
      "text/plain": [
       "<tensorflow.python.keras.callbacks.History at 0x7f29100e8c10>"
      ]
     },
     "execution_count": 5,
     "metadata": {},
     "output_type": "execute_result"
    }
   ],
   "source": [
    "# Exploit the the fact that VariationalAutoEncoder subclasses Model to make life easier\n",
    "\n",
    "vae = VariationalAutoEncoder(784, 64, 32)\n",
    "\n",
    "optimizer = tf.keras.optimizers.Adam(learning_rate=1e-3)\n",
    "\n",
    "vae.compile(optimizer, loss=tf.keras.losses.MeanSquaredError())  # 👈 custom loss is added in automatically...\n",
    "vae.fit(x_train, x_train, epochs=2, batch_size=64)\n"
   ]
  },
  {
   "cell_type": "markdown",
   "metadata": {
    "id": "JRnBNq2dX2Jz"
   },
   "source": [
    "# VAE MNIST with the Functional API"
   ]
  },
  {
   "cell_type": "code",
   "execution_count": 6,
   "metadata": {
    "colab": {
     "base_uri": "https://localhost:8080/"
    },
    "executionInfo": {
     "elapsed": 8066,
     "status": "ok",
     "timestamp": 1612994597098,
     "user": {
      "displayName": "Bryan Feeney",
      "photoUrl": "https://lh3.googleusercontent.com/a-/AOh14GiPntWv82gXOOwC1JBFNoK4SPM-4IxTQnERyCBuUQ=s64",
      "userId": "15000880758463632242"
     },
     "user_tz": 0
    },
    "id": "-6SK_gMMX1nR",
    "outputId": "a4ba3c5c-d12b-4288-cdde-d94692d9bf61"
   },
   "outputs": [
    {
     "name": "stdout",
     "output_type": "stream",
     "text": [
      "Epoch 1/3\n",
      "938/938 [==============================] - 1s 1ms/step - loss: 0.1116\n",
      "Epoch 2/3\n",
      "938/938 [==============================] - 1s 1ms/step - loss: 0.0675\n",
      "Epoch 3/3\n",
      "938/938 [==============================] - 1s 1ms/step - loss: 0.0674\n"
     ]
    },
    {
     "data": {
      "text/plain": [
       "<tensorflow.python.keras.callbacks.History at 0x7f289c248040>"
      ]
     },
     "execution_count": 6,
     "metadata": {},
     "output_type": "execute_result"
    }
   ],
   "source": [
    "original_dim = 784\n",
    "intermediate_dim = 64\n",
    "latent_dim = 2\n",
    "\n",
    "# Define encoder model.\n",
    "original_inputs = tf.keras.Input(shape=(original_dim,), name=\"encoder_input\")\n",
    "\n",
    "x = layers.Dense(intermediate_dim, activation=\"relu\")(original_inputs)\n",
    "z_mean = layers.Dense(latent_dim, name=\"z_mean\")(x)\n",
    "z_log_var = layers.Dense(latent_dim, name=\"z_log_var\")(x)\n",
    "z = Sampling()((z_mean, z_log_var))\n",
    "encoder = tf.keras.Model(inputs=original_inputs, outputs=z, name=\"encoder\")\n",
    "\n",
    "# Define decoder model.\n",
    "latent_inputs = tf.keras.Input(shape=(latent_dim,), name=\"z_sampling\")\n",
    "\n",
    "x = layers.Dense(intermediate_dim, activation=\"relu\")(latent_inputs)\n",
    "outputs = layers.Dense(original_dim, activation=\"sigmoid\")(x)\n",
    "decoder = tf.keras.Model(inputs=latent_inputs, outputs=outputs, name=\"decoder\")\n",
    "\n",
    "# Define VAE model.\n",
    "outputs = decoder(z)\n",
    "vae = tf.keras.Model(inputs=original_inputs, outputs=outputs, name=\"vae\")\n",
    "\n",
    "# Add KL divergence regularization loss.\n",
    "kl_loss = -0.5 * tf.reduce_mean(z_log_var - tf.square(z_mean) - tf.exp(z_log_var) + 1)\n",
    "vae.add_loss(kl_loss)  # 👈 Using this seems to be the key to avoiding losing graph connection in loss fn.\n",
    "\n",
    "# Train.\n",
    "optimizer = tf.keras.optimizers.Adam(learning_rate=1e-3)\n",
    "vae.compile(optimizer, loss=tf.keras.losses.MeanSquaredError())\n",
    "vae.fit(x_train, x_train, epochs=3, batch_size=64)\n"
   ]
  },
  {
   "cell_type": "code",
   "execution_count": 7,
   "metadata": {
    "executionInfo": {
     "elapsed": 538,
     "status": "ok",
     "timestamp": 1612994601711,
     "user": {
      "displayName": "Bryan Feeney",
      "photoUrl": "https://lh3.googleusercontent.com/a-/AOh14GiPntWv82gXOOwC1JBFNoK4SPM-4IxTQnERyCBuUQ=s64",
      "userId": "15000880758463632242"
     },
     "user_tz": 0
    },
    "id": "4W2cbRz39lkR"
   },
   "outputs": [],
   "source": [
    "import matplotlib.pyplot as plt \n",
    "import numpy as np"
   ]
  },
  {
   "cell_type": "code",
   "execution_count": 8,
   "metadata": {
    "colab": {
     "base_uri": "https://localhost:8080/",
     "height": 282
    },
    "executionInfo": {
     "elapsed": 504,
     "status": "ok",
     "timestamp": 1612994629619,
     "user": {
      "displayName": "Bryan Feeney",
      "photoUrl": "https://lh3.googleusercontent.com/a-/AOh14GiPntWv82gXOOwC1JBFNoK4SPM-4IxTQnERyCBuUQ=s64",
      "userId": "15000880758463632242"
     },
     "user_tz": 0
    },
    "id": "chmkSAA4XtB2",
    "outputId": "0f50fac9-1219-45d3-a81f-128027f03d0c"
   },
   "outputs": [
    {
     "data": {
      "text/plain": [
       "<matplotlib.image.AxesImage at 0x7f289c3de130>"
      ]
     },
     "execution_count": 8,
     "metadata": {},
     "output_type": "execute_result"
    },
    {
     "data": {
      "image/png": "[encoded data removed]",
      "text/plain": [
       "<Figure size 432x288 with 1 Axes>"
      ]
     },
     "metadata": {
      "needs_background": "light"
     },
     "output_type": "display_data"
    }
   ],
   "source": [
    "plt.imshow(\n",
    "  np.squeeze(\n",
    "    decoder.predict(\n",
    "      np.array(\n",
    "        [[-2, -2]]\n",
    "      )\n",
    "    )\n",
    "  ).reshape((28, 28))\n",
    ")"
   ]
  },
  {
   "cell_type": "code",
   "execution_count": null,
   "metadata": {
    "executionInfo": {
     "elapsed": 44305,
     "status": "aborted",
     "timestamp": 1612994542604,
     "user": {
      "displayName": "Bryan Feeney",
      "photoUrl": "https://lh3.googleusercontent.com/a-/AOh14GiPntWv82gXOOwC1JBFNoK4SPM-4IxTQnERyCBuUQ=s64",
      "userId": "15000880758463632242"
     },
     "user_tz": 0
    },
    "id": "AVoPVi6k9kk1"
   },
   "outputs": [],
   "source": []
  }
 ],
 "metadata": {
  "accelerator": "GPU",
  "colab": {
   "authorship_tag": "ABX9TyPHcdaK6r5Ke3cNu23te1sS",
   "name": "Keras MNist VAE Tutorial.ipynb",
   "provenance": []
  },
  "kernelspec": {
   "display_name": "Python 3",
   "language": "python",
   "name": "python3"
  },
  "language_info": {
   "codemirror_mode": {
    "name": "ipython",
    "version": 3
   },
   "file_extension": ".py",
   "mimetype": "text/x-python",
   "name": "python",
   "nbconvert_exporter": "python",
   "pygments_lexer": "ipython3",
   "version": "3.8.8"
  }
 },
 "nbformat": 4,
 "nbformat_minor": 4
}
